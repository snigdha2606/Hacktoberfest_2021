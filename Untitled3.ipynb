{
  "nbformat": 4,
  "nbformat_minor": 0,
  "metadata": {
    "colab": {
      "name": "Untitled3.ipynb",
      "provenance": [],
      "authorship_tag": "ABX9TyO1Xtkhh7u6yLpvaXXf0fF0",
      "include_colab_link": true
    },
    "kernelspec": {
      "name": "python3",
      "display_name": "Python 3"
    },
    "language_info": {
      "name": "python"
    }
  },
  "cells": [
    {
      "cell_type": "markdown",
      "metadata": {
        "id": "view-in-github",
        "colab_type": "text"
      },
      "source": [
        "<a href=\"https://colab.research.google.com/github/snigdha2606/Hacktoberfest_2021/blob/master/Untitled3.ipynb\" target=\"_parent\"><img src=\"https://colab.research.google.com/assets/colab-badge.svg\" alt=\"Open In Colab\"/></a>"
      ]
    },
    {
      "cell_type": "code",
      "execution_count": 1,
      "metadata": {
        "id": "FgcSXmH2G5ZT"
      },
      "outputs": [],
      "source": [
        "from tensorflow import keras\n",
        "import tensorflow"
      ]
    },
    {
      "cell_type": "code",
      "source": [
        "keras.datasets"
      ],
      "metadata": {
        "colab": {
          "base_uri": "https://localhost:8080/"
        },
        "id": "9Ro8kFg0HJOa",
        "outputId": "a4876a2c-d7e5-405f-9afd-cc0afa8c16ad"
      },
      "execution_count": 2,
      "outputs": [
        {
          "output_type": "execute_result",
          "data": {
            "text/plain": [
              "<module 'keras.api._v2.keras.datasets' from '/usr/local/lib/python3.7/dist-packages/keras/api/_v2/keras/datasets/__init__.py'>"
            ]
          },
          "metadata": {},
          "execution_count": 2
        }
      ]
    },
    {
      "cell_type": "code",
      "source": [
        "alldata=keras.datasets.imdb\n",
        "alldata\n",
        "dir(alldata)"
      ],
      "metadata": {
        "colab": {
          "base_uri": "https://localhost:8080/"
        },
        "id": "d1D3i705HP05",
        "outputId": "371248c3-1e4e-4749-a0ea-55b46b2f60f1"
      },
      "execution_count": 5,
      "outputs": [
        {
          "output_type": "execute_result",
          "data": {
            "text/plain": [
              "['__builtins__',\n",
              " '__cached__',\n",
              " '__doc__',\n",
              " '__file__',\n",
              " '__loader__',\n",
              " '__name__',\n",
              " '__package__',\n",
              " '__path__',\n",
              " '__spec__',\n",
              " '_sys',\n",
              " 'get_word_index',\n",
              " 'load_data']"
            ]
          },
          "metadata": {},
          "execution_count": 5
        }
      ]
    },
    {
      "cell_type": "code",
      "source": [
        "data=alldata.load_data()"
      ],
      "metadata": {
        "colab": {
          "base_uri": "https://localhost:8080/"
        },
        "id": "800FFsUiHe7E",
        "outputId": "1d64bed8-b80b-4ab3-8c54-b41057e7d33f"
      },
      "execution_count": 6,
      "outputs": [
        {
          "output_type": "stream",
          "name": "stdout",
          "text": [
            "Downloading data from https://storage.googleapis.com/tensorflow/tf-keras-datasets/imdb.npz\n",
            "17465344/17464789 [==============================] - 0s 0us/step\n",
            "17473536/17464789 [==============================] - 0s 0us/step\n"
          ]
        }
      ]
    },
    {
      "cell_type": "code",
      "source": [
        "len(data),len(data[0])"
      ],
      "metadata": {
        "colab": {
          "base_uri": "https://localhost:8080/"
        },
        "id": "0TO6uPWFHi8D",
        "outputId": "ccd0e500-d53f-4096-c67d-24849ff57097"
      },
      "execution_count": 7,
      "outputs": [
        {
          "output_type": "execute_result",
          "data": {
            "text/plain": [
              "(2, 2)"
            ]
          },
          "metadata": {},
          "execution_count": 7
        }
      ]
    },
    {
      "cell_type": "code",
      "source": [
        "len(data[0][0])"
      ],
      "metadata": {
        "colab": {
          "base_uri": "https://localhost:8080/"
        },
        "id": "6LIwO9Z4Ho7z",
        "outputId": "34e579bb-91f7-41f5-fd23-13c94eb61c2a"
      },
      "execution_count": 8,
      "outputs": [
        {
          "output_type": "execute_result",
          "data": {
            "text/plain": [
              "25000"
            ]
          },
          "metadata": {},
          "execution_count": 8
        }
      ]
    },
    {
      "cell_type": "code",
      "source": [
        "(xtrain,ytrain),(xtest,ytest)=keras.datasets.imdb.load_data()\n",
        "num_word=HP_vocab_size\n",
        "ytrain[0],ytrain[789]"
      ],
      "metadata": {
        "colab": {
          "base_uri": "https://localhost:8080/"
        },
        "id": "1pSGqExGHtvD",
        "outputId": "8ce4657f-a7df-4a18-8d73-789f3b6d1d35"
      },
      "execution_count": 11,
      "outputs": [
        {
          "output_type": "execute_result",
          "data": {
            "text/plain": [
              "(1, 0)"
            ]
          },
          "metadata": {},
          "execution_count": 11
        }
      ]
    },
    {
      "cell_type": "code",
      "source": [
        "print(xtrain[42])"
      ],
      "metadata": {
        "colab": {
          "base_uri": "https://localhost:8080/"
        },
        "id": "iytYTR9DIINm",
        "outputId": "7a6ca9b1-793f-4e82-9863-9f7a38fbb1a7"
      },
      "execution_count": 14,
      "outputs": [
        {
          "output_type": "stream",
          "name": "stdout",
          "text": [
            "[1, 1710, 14, 733, 1367, 1028, 81, 24, 332, 48, 25, 92, 181, 49, 757, 2029, 8, 25, 159, 25, 106, 4, 22, 10, 10, 19, 6, 177, 40, 14, 25, 594, 726, 42, 24, 4, 156, 5, 1507, 697, 618, 51, 36, 71, 397, 83, 122, 36, 67, 4, 229, 5, 135, 1400, 491, 3267, 7, 4, 840, 243, 16, 141, 6, 569, 15, 14, 31, 191, 1854, 758, 472, 12, 127, 122, 36, 60, 104, 8, 808, 23, 4, 2030, 12830, 13, 384, 62, 25, 81, 6, 20, 19, 4, 167, 7, 6, 20, 446, 12785, 21546, 758, 22198, 2595, 37, 62, 303, 140, 23, 8, 1504, 4, 3149, 477, 1351, 758, 93, 14, 12, 166, 25, 594, 89, 4, 84, 7, 736, 1067, 750, 5083, 100, 4225, 477, 42894, 5, 340, 717, 46, 23, 4, 994, 758, 10, 10, 4, 22, 9, 270, 11, 6, 392, 513, 11, 162, 2713, 6, 117, 430, 5, 250, 26, 11, 4, 890, 38451, 31, 314, 54, 6, 976, 14959, 17195, 6640, 6, 8047, 739, 5, 32557, 120, 98, 11, 242, 4, 249, 318, 962, 720, 7, 4, 22, 4, 1693, 19508, 49, 243, 7, 767, 14789, 23, 98, 12, 610, 40, 2595, 69, 1428, 6, 30471, 7, 1093, 11, 39, 7, 4, 370, 7315, 5, 23744, 27, 25987, 7389, 11, 12, 38, 208, 245, 25, 26, 1899, 19, 3043, 6391, 4, 1693, 889, 5, 4, 1473, 92, 264, 4, 476, 3300, 75, 67, 3244, 23224, 937, 13, 169, 8, 30, 6, 1307, 284, 106, 27, 139, 11, 41650, 18, 3170, 17, 36, 26, 1339, 37, 9, 395, 6, 30170, 42, 17, 13, 446, 90, 4, 14007, 62177, 29, 3183, 46, 7, 4, 4501, 29, 9, 11, 5, 29, 5, 27, 912, 26, 41281, 34, 4, 1693, 1784, 677, 153, 140, 34, 5, 4, 250, 47, 2071, 56, 8, 30, 12167, 6613, 37, 495, 19, 41, 336, 4574, 14464, 11, 5730, 1732, 5825, 13544, 42, 142, 40, 15, 6613, 3230, 49, 680, 13544, 11, 9529, 1268, 120, 15, 117, 162, 2713, 513, 5, 59, 4136, 50, 8, 2301, 12, 280, 59, 214, 50, 4, 719, 33585, 20405, 41, 5, 1821, 41, 18, 4, 1136, 9373, 7, 5364, 80787, 15, 28, 77, 170, 23, 5, 6933, 6579, 488, 3244, 266, 8, 41, 2232, 39, 14, 213, 23, 4, 22, 66, 3465, 17, 4, 107, 946, 809, 18, 257, 85, 262, 103, 3244, 13667, 125, 4, 5751, 5, 8305, 6613, 15, 29, 16, 4, 117, 430, 15, 219, 4, 1693, 19, 41, 1784, 677, 153, 908, 137, 14, 357, 947, 9, 1448, 3244, 23224, 19, 27, 455, 912, 33, 27, 499, 9, 1286, 187, 880, 4, 5364, 5, 101, 84, 29, 1129, 83, 19, 35, 1732, 5923, 25, 124, 148, 5604, 3161, 3775, 5687, 2225, 18, 2873, 42, 51947, 33, 2195, 4, 243, 15, 25, 4464, 8, 97, 98, 8905, 23224, 1077, 51, 272, 40, 31, 7, 148, 8905, 3775, 8, 3524, 71785, 11, 84, 45, 4, 333, 249, 962, 11, 4, 20, 175, 58, 23224, 9, 23, 268, 19, 4, 8905, 1231, 4, 11663, 841, 1087, 505, 465, 40, 4, 1057, 197, 4, 8905, 1231, 887, 15, 27436, 12, 630, 56, 231, 4, 20, 168, 60, 9304, 74, 12, 9, 10, 10, 5, 51, 127, 32, 14, 485, 56, 8, 45, 254, 8, 376, 54, 4, 477, 1499, 136, 2957, 67, 14464, 5, 27, 768, 7, 3368, 353, 8, 1260, 4, 9529, 1218, 15, 6613, 258, 17, 49, 243, 7, 2783, 3155, 758, 21, 600, 7, 12, 166, 281, 138, 81, 6613, 5, 3244, 559, 5, 23224, 127, 24, 23224, 2568, 138, 29, 9, 880, 5364, 5, 84, 5, 138, 29, 494, 6613, 351, 21, 60, 15, 152, 97, 76, 281, 54, 25, 66, 104, 44, 12, 13, 384, 138, 152, 29, 516, 6579, 488, 3244, 103, 32, 29, 69, 1784, 677, 153, 8, 81, 12, 5, 4, 2535, 528, 359, 90, 48, 6613, 9, 351, 6391, 38, 138, 353, 8, 516, 41, 1386, 7, 4, 2535, 12, 9, 115, 788, 51, 36, 66, 473, 46, 7, 6613, 5, 3244, 51, 9, 68, 3359, 138, 81, 36, 858, 38, 196, 8, 24856, 89, 100, 36, 30, 38, 252, 6613, 62, 216, 145, 24, 15, 4, 1527, 8, 101, 7, 134, 5, 85, 1204, 62, 28, 93, 4, 21698, 101, 53, 2211, 25, 62, 131, 28, 78, 411, 66, 78, 116, 572, 34, 6613, 954, 302, 5, 338, 458, 3466, 4, 381, 3954, 39, 14, 20, 12167, 6613, 515, 435, 23, 8, 323, 11, 63246, 19, 1478, 4956, 6579, 488, 3244, 435, 23, 8, 30, 2561, 11, 4193, 7, 503, 102, 400, 11, 120, 4, 350, 531, 4574, 14464, 93, 6, 2446, 7, 4050, 6233, 699, 102, 208, 56, 366, 27, 341, 3244, 23224, 435, 23, 8, 30, 6, 87, 109, 284, 11, 6, 666, 612, 7, 108, 1593, 14823, 37, 256, 6, 12520, 1164, 11321, 1909, 946, 93, 4, 1307, 584, 11, 4, 26686, 5, 4, 373, 4, 70636, 159, 2660, 83, 4, 108, 29, 47, 77, 804, 18, 1033, 25, 70, 2134, 600, 7, 134, 381, 126, 181, 68, 4076, 8, 994, 8, 4, 994, 758, 38906, 603, 241, 46, 7, 158]\n"
          ]
        }
      ]
    },
    {
      "cell_type": "code",
      "source": [
        "HP_vocab_size=10000         #number of words, 1st hyperparameter\n",
        "HP_epochs= 50               #number of iterations,2nd hyperparameter\n",
        "HP_batch_size= 32           #3rd hyperparameter\n",
        "HP_initial_LR= 0.001         #initial learning rate, changes by adam optimizer. at the end, LR=0\n",
        "#0=1e-3+decay_rate*50\n",
        "     "
      ],
      "metadata": {
        "id": "okU805cZJmWA"
      },
      "execution_count": null,
      "outputs": []
    },
    {
      "cell_type": "code",
      "source": [
        "opt= keras.optimizers.Adam(learning_rate=HP_initial_LR).    #optimizer\n"
      ],
      "metadata": {
        "id": "DXbEWiCcNbSr"
      },
      "execution_count": null,
      "outputs": []
    },
    {
      "cell_type": "code",
      "source": [
        "vocab=alldata.get_word_index()"
      ],
      "metadata": {
        "id": "NQNYcYGBOu4J"
      },
      "execution_count": null,
      "outputs": []
    },
    {
      "cell_type": "code",
      "source": [
        "rev_vocab={ v:k for k,v in vocab.items()}. #key,value to value,key"
      ],
      "metadata": {
        "colab": {
          "base_uri": "https://localhost:8080/",
          "height": 133
        },
        "id": "mPkgUn35PHhz",
        "outputId": "c06336ca-d5c3-40dd-c3de-4e5a7107d69d"
      },
      "execution_count": 17,
      "outputs": [
        {
          "output_type": "error",
          "ename": "SyntaxError",
          "evalue": "ignored",
          "traceback": [
            "\u001b[0;36m  File \u001b[0;32m\"<ipython-input-17-2f66b7be9f3c>\"\u001b[0;36m, line \u001b[0;32m1\u001b[0m\n\u001b[0;31m    rev_vocab={ v:k for k,v in vocab.items()}. #key,value to value,key\u001b[0m\n\u001b[0m                                                                      ^\u001b[0m\n\u001b[0;31mSyntaxError\u001b[0m\u001b[0;31m:\u001b[0m invalid syntax\n"
          ]
        }
      ]
    },
    {
      "cell_type": "code",
      "source": [
        "def decoder(sentence):\n",
        "  words=[rev_vocab[word] for word in sentence]\n",
        "  full_sentence= \"\".join(words)\n",
        "  return full_sentence"
      ],
      "metadata": {
        "id": "XWBgpvhpO5lV"
      },
      "execution_count": 20,
      "outputs": []
    },
    {
      "cell_type": "code",
      "source": [
        "decoder(xtrain[90])"
      ],
      "metadata": {
        "colab": {
          "base_uri": "https://localhost:8080/",
          "height": 300
        },
        "id": "W_zmhh00QKj0",
        "outputId": "17358de1-8ec7-4ed6-fe6c-b9d5802a91de"
      },
      "execution_count": 21,
      "outputs": [
        {
          "output_type": "error",
          "ename": "NameError",
          "evalue": "ignored",
          "traceback": [
            "\u001b[0;31m---------------------------------------------------------------------------\u001b[0m",
            "\u001b[0;31mNameError\u001b[0m                                 Traceback (most recent call last)",
            "\u001b[0;32m<ipython-input-21-ce520ce7d1b0>\u001b[0m in \u001b[0;36m<module>\u001b[0;34m()\u001b[0m\n\u001b[0;32m----> 1\u001b[0;31m \u001b[0mdecoder\u001b[0m\u001b[0;34m(\u001b[0m\u001b[0mxtrain\u001b[0m\u001b[0;34m[\u001b[0m\u001b[0;36m90\u001b[0m\u001b[0;34m]\u001b[0m\u001b[0;34m)\u001b[0m\u001b[0;34m\u001b[0m\u001b[0;34m\u001b[0m\u001b[0m\n\u001b[0m",
            "\u001b[0;32m<ipython-input-20-233bd7ee492c>\u001b[0m in \u001b[0;36mdecoder\u001b[0;34m(sentence)\u001b[0m\n\u001b[1;32m      1\u001b[0m \u001b[0;32mdef\u001b[0m \u001b[0mdecoder\u001b[0m\u001b[0;34m(\u001b[0m\u001b[0msentence\u001b[0m\u001b[0;34m)\u001b[0m\u001b[0;34m:\u001b[0m\u001b[0;34m\u001b[0m\u001b[0;34m\u001b[0m\u001b[0m\n\u001b[0;32m----> 2\u001b[0;31m   \u001b[0mwords\u001b[0m\u001b[0;34m=\u001b[0m\u001b[0;34m[\u001b[0m\u001b[0mrev_vocab\u001b[0m\u001b[0;34m[\u001b[0m\u001b[0mword\u001b[0m\u001b[0;34m]\u001b[0m \u001b[0;32mfor\u001b[0m \u001b[0mword\u001b[0m \u001b[0;32min\u001b[0m \u001b[0msentence\u001b[0m\u001b[0;34m]\u001b[0m\u001b[0;34m\u001b[0m\u001b[0;34m\u001b[0m\u001b[0m\n\u001b[0m\u001b[1;32m      3\u001b[0m   \u001b[0mfull_sentence\u001b[0m\u001b[0;34m=\u001b[0m \u001b[0;34m\"\"\u001b[0m\u001b[0;34m.\u001b[0m\u001b[0mjoin\u001b[0m\u001b[0;34m(\u001b[0m\u001b[0mwords\u001b[0m\u001b[0;34m)\u001b[0m\u001b[0;34m\u001b[0m\u001b[0;34m\u001b[0m\u001b[0m\n\u001b[1;32m      4\u001b[0m   \u001b[0;32mreturn\u001b[0m \u001b[0mfull_sentence\u001b[0m\u001b[0;34m\u001b[0m\u001b[0;34m\u001b[0m\u001b[0m\n",
            "\u001b[0;32m<ipython-input-20-233bd7ee492c>\u001b[0m in \u001b[0;36m<listcomp>\u001b[0;34m(.0)\u001b[0m\n\u001b[1;32m      1\u001b[0m \u001b[0;32mdef\u001b[0m \u001b[0mdecoder\u001b[0m\u001b[0;34m(\u001b[0m\u001b[0msentence\u001b[0m\u001b[0;34m)\u001b[0m\u001b[0;34m:\u001b[0m\u001b[0;34m\u001b[0m\u001b[0;34m\u001b[0m\u001b[0m\n\u001b[0;32m----> 2\u001b[0;31m   \u001b[0mwords\u001b[0m\u001b[0;34m=\u001b[0m\u001b[0;34m[\u001b[0m\u001b[0mrev_vocab\u001b[0m\u001b[0;34m[\u001b[0m\u001b[0mword\u001b[0m\u001b[0;34m]\u001b[0m \u001b[0;32mfor\u001b[0m \u001b[0mword\u001b[0m \u001b[0;32min\u001b[0m \u001b[0msentence\u001b[0m\u001b[0;34m]\u001b[0m\u001b[0;34m\u001b[0m\u001b[0;34m\u001b[0m\u001b[0m\n\u001b[0m\u001b[1;32m      3\u001b[0m   \u001b[0mfull_sentence\u001b[0m\u001b[0;34m=\u001b[0m \u001b[0;34m\"\"\u001b[0m\u001b[0;34m.\u001b[0m\u001b[0mjoin\u001b[0m\u001b[0;34m(\u001b[0m\u001b[0mwords\u001b[0m\u001b[0;34m)\u001b[0m\u001b[0;34m\u001b[0m\u001b[0;34m\u001b[0m\u001b[0m\n\u001b[1;32m      4\u001b[0m   \u001b[0;32mreturn\u001b[0m \u001b[0mfull_sentence\u001b[0m\u001b[0;34m\u001b[0m\u001b[0;34m\u001b[0m\u001b[0m\n",
            "\u001b[0;31mNameError\u001b[0m: name 'rev_vocab' is not defined"
          ]
        }
      ]
    },
    {
      "cell_type": "code",
      "source": [
        "#0 <PADDING>\n",
        "#1 <START>\n",
        "#2 <UNKNOWN>\n",
        "#3 <UNUSED>\n",
        "rev_new_vocab= {}"
      ],
      "metadata": {
        "id": "koqaJjWdQOCA"
      },
      "execution_count": null,
      "outputs": []
    },
    {
      "cell_type": "code",
      "source": [
        "rev_vocab[1]\n"
      ],
      "metadata": {
        "id": "f7bDUBY4R4Oe"
      },
      "execution_count": null,
      "outputs": []
    },
    {
      "cell_type": "code",
      "source": [
        "fixed_dict= {k,v+3 for k,v in vocab.items()}\n",
        "rev_fixed_vocab={v:k for k,v in fixed_dict.items()}"
      ],
      "metadata": {
        "id": "J2yJKU67SQYV"
      },
      "execution_count": null,
      "outputs": []
    },
    {
      "cell_type": "code",
      "source": [
        "rev_fixed_vocab[42]"
      ],
      "metadata": {
        "id": "C6XFjZ2fTLWJ"
      },
      "execution_count": null,
      "outputs": []
    },
    {
      "cell_type": "code",
      "source": [
        "rev_fixed_vocab[0]= \"<PAD>\"\n",
        "rev_fixed_vocab[1]= \"<START>\"\n",
        "rev_fixed_vocab[2]= \"<UNK>\"\n",
        "rev_fixed_vocab[3]= \"<UNUSED>\"\n"
      ],
      "metadata": {
        "id": "1GXiknz3TpH4"
      },
      "execution_count": null,
      "outputs": []
    },
    {
      "cell_type": "code",
      "source": [
        "for i in range(10):\n",
        "  print(len(xtrain_paddeed[i]),end=\" \")\n"
      ],
      "metadata": {
        "id": "ke2EeK0vUZv2"
      },
      "execution_count": null,
      "outputs": []
    },
    {
      "cell_type": "code",
      "source": [
        "import tensorflow as tf\n",
        "#w*x\n",
        "w=tf.Variable([[1.],[2.]])\n",
        "x=tf.constant([3.,4.])\n",
        "tf.Matmul(w,x)"
      ],
      "metadata": {
        "colab": {
          "base_uri": "https://localhost:8080/",
          "height": 204
        },
        "id": "zjp4FAPeV8-a",
        "outputId": "2d3d2a86-f25a-488a-f000-8e7d79ac3a08"
      },
      "execution_count": 12,
      "outputs": [
        {
          "output_type": "error",
          "ename": "AttributeError",
          "evalue": "ignored",
          "traceback": [
            "\u001b[0;31m---------------------------------------------------------------------------\u001b[0m",
            "\u001b[0;31mAttributeError\u001b[0m                            Traceback (most recent call last)",
            "\u001b[0;32m<ipython-input-12-f5f6848b5cb0>\u001b[0m in \u001b[0;36m<module>\u001b[0;34m()\u001b[0m\n\u001b[1;32m      3\u001b[0m \u001b[0mw\u001b[0m\u001b[0;34m=\u001b[0m\u001b[0mtf\u001b[0m\u001b[0;34m.\u001b[0m\u001b[0mVariable\u001b[0m\u001b[0;34m(\u001b[0m\u001b[0;34m[\u001b[0m\u001b[0;34m[\u001b[0m\u001b[0;36m1.\u001b[0m\u001b[0;34m]\u001b[0m\u001b[0;34m,\u001b[0m\u001b[0;34m[\u001b[0m\u001b[0;36m2.\u001b[0m\u001b[0;34m]\u001b[0m\u001b[0;34m]\u001b[0m\u001b[0;34m)\u001b[0m\u001b[0;34m\u001b[0m\u001b[0;34m\u001b[0m\u001b[0m\n\u001b[1;32m      4\u001b[0m \u001b[0mx\u001b[0m\u001b[0;34m=\u001b[0m\u001b[0mtf\u001b[0m\u001b[0;34m.\u001b[0m\u001b[0mconstant\u001b[0m\u001b[0;34m(\u001b[0m\u001b[0;34m[\u001b[0m\u001b[0;36m3.\u001b[0m\u001b[0;34m,\u001b[0m\u001b[0;36m4.\u001b[0m\u001b[0;34m]\u001b[0m\u001b[0;34m)\u001b[0m\u001b[0;34m\u001b[0m\u001b[0;34m\u001b[0m\u001b[0m\n\u001b[0;32m----> 5\u001b[0;31m \u001b[0mtf\u001b[0m\u001b[0;34m.\u001b[0m\u001b[0mMatmul\u001b[0m\u001b[0;34m(\u001b[0m\u001b[0mw\u001b[0m\u001b[0;34m,\u001b[0m\u001b[0mx\u001b[0m\u001b[0;34m)\u001b[0m\u001b[0;34m\u001b[0m\u001b[0;34m\u001b[0m\u001b[0m\n\u001b[0m",
            "\u001b[0;31mAttributeError\u001b[0m: module 'tensorflow' has no attribute 'Matmul'"
          ]
        }
      ]
    },
    {
      "cell_type": "code",
      "source": [
        "def compute_gradients(X,Y,w0,w1):\n",
        "  with tf.GradientTape( )as tape:\n",
        "    loss= loss_mse(X)yj y"
      ],
      "metadata": {
        "id": "EhvoBvJEovTR"
      },
      "execution_count": null,
      "outputs": []
    }
  ]
}